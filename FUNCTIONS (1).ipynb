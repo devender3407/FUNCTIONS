{
  "nbformat": 4,
  "nbformat_minor": 0,
  "metadata": {
    "colab": {
      "provenance": []
    },
    "kernelspec": {
      "name": "python3",
      "display_name": "Python 3"
    },
    "language_info": {
      "name": "python"
    }
  },
  "cells": [
    {
      "cell_type": "markdown",
      "source": [
        "^FUNCTIONS"
      ],
      "metadata": {
        "id": "tKYOzl0avvba"
      }
    },
    {
      "cell_type": "markdown",
      "source": [
        "Question 1:- What is the difference between a function and a method in python?"
      ],
      "metadata": {
        "id": "ZxouThKYvzgh"
      }
    },
    {
      "cell_type": "markdown",
      "source": [
        "Answer:- Functions are the block of reusable code that performs a spcific tasks. \"keyword \"def\" is used in functons.\n",
        "Methods ia a function that is associated with an object which is usually part of a class. It always takes self as a first parameter. All functions are functions, but not all functions are methods."
      ],
      "metadata": {
        "id": "1mUayN92w5mA"
      }
    },
    {
      "cell_type": "markdown",
      "source": [
        "Question 2:- Explain the concept of function argumemts and parameters in python.\n",
        "\n",
        "Answer:- Parameters are used to define what kind of input a function expects.\n",
        "Arguments are actual values passed to a function when it is called. They replace the parameters at runtime. So shortly parameters are what a function expects and arguments are what you give to the function."
      ],
      "metadata": {
        "id": "7_Zjza6byGvj"
      }
    },
    {
      "cell_type": "markdown",
      "source": [
        "Question 3:- What are the different ways to define and call a function in python?\n",
        "\n",
        "Answer:- In python, function can be define and called in multiple ways depending on how flexible and structured we want our code to be.\n",
        "\"def\" is used to standard function.\n",
        "\"def+default\" values are used for functions with default arguments.\n",
        "\"args, **kwargs\" are used for variable length arguments.\n"
      ],
      "metadata": {
        "id": "TDRYYv6EzcF_"
      }
    },
    {
      "cell_type": "markdown",
      "source": [
        "Question 4:- What is the purpose of the return statement in a python function?\n",
        "\n",
        "Answer:- The return statement in python is used to send a value back to the calling code. It marks the end of the function execution and hands back a result."
      ],
      "metadata": {
        "id": "nr3-J-ev1Sb1"
      }
    },
    {
      "cell_type": "markdown",
      "source": [
        "Question 5:- What are iterators in python and how do they differ from iterables?\n",
        "\n",
        "Answer:- Iterables are the the method that return an iterator. for example:- list, tuple, strings, set etc.\n",
        "Iterator is an object that produces values one at a time.\n",
        "Iterable can return a new iterator every time while iterator remembers state and yields next item."
      ],
      "metadata": {
        "id": "pnrAau5X2CyH"
      }
    },
    {
      "cell_type": "markdown",
      "source": [
        "Question 6:- Explain the concept of generators in python and how are they defined?\n",
        "\n",
        "Answer:- The generators in python are used to save memory space, time and multiple iterations to bring the similar result. It is just the most concise and comprehensive method than the standard functions.\n",
        "The generators are defined by usung a functon of \"yield\" and they called by using the funtion \"next\"."
      ],
      "metadata": {
        "id": "jVSjafIE4C7p"
      }
    },
    {
      "cell_type": "markdown",
      "source": [
        "Question 7:- What are the advantages of using generators over regular functions?\n",
        "\n",
        "Answer:- the generators in python are used to save memory space, time and multiple iterations to bring the similar result. It is just the most concise and comprehensive method than the standard functions. Generators produce one item at a time, instead of building and storing the entire result in memory like resuls. Generators can be used for solving the complex sequences without crasing the code such as factorial, fibonacci etc."
      ],
      "metadata": {
        "id": "Vn1t4KgD5ZKt"
      }
    },
    {
      "cell_type": "markdown",
      "source": [
        "Question 8:- What is a lambda function in python and when it is typically used?\n",
        "\n",
        "Answer:- A lambda function in python is a smaall, anonymous function using a lambda keyword instead of def. It can have any number of arguments, but only one expression.\n",
        "Lambda function is typically used when a short, throwaway functionis needed temporarily, especially in functions that take other functions as arguments."
      ],
      "metadata": {
        "id": "DWYyt9JO6u64"
      }
    },
    {
      "cell_type": "markdown",
      "source": [
        "Question 9:- Explain the purpose and usage of the map() function in python.\n",
        "\n",
        "Answer:- Map() is used to apply a function to every item in an iterable like list, tuple etc. and returns a new map object which is an iterator. It can be used with lambda, it can square the numbers in a list, it can convert the strings to uppercase etc. Basically it has multiple usecases."
      ],
      "metadata": {
        "id": "UVqcovsV8aM4"
      }
    },
    {
      "cell_type": "markdown",
      "source": [
        "Question 10:- What is the difference between map(), reduce(), and filter() functions in python?\n",
        "\n",
        "Answer:- Map() is used for trasformation. It applies a function to every item in an iterable and returns a new iterable with the results.\n",
        "Filter() is used for selecting something. IT filters elements from a iterable using a boolen condition . Only true functions are kept.\n",
        "Reduce() is used for aggregation. It reduces the iterable to a single value by repeatedly applying a function to pairs of elements.\n"
      ],
      "metadata": {
        "id": "ljiTwnwH9zh9"
      }
    },
    {
      "cell_type": "markdown",
      "source": [
        "Question 11:- write the internal mechanism for sum operation using reduce function on given list:[47, 11, 42, 13]:\n",
        "\n",
        "Answer:- reduce(lambda x, y: x+y, [47, 11, 42, 13])\n",
        "\n",
        "step 1: 47 + 11 = 58\n",
        "step 2: 58 + 42 = 100\n",
        "step 3: 100 + 13 = 113\n",
        "final result = 113"
      ],
      "metadata": {
        "id": "OO_0Yu2iCd0Y"
      }
    },
    {
      "cell_type": "markdown",
      "source": [
        "^PRACTICAL QUESTIONS"
      ],
      "metadata": {
        "id": "Irtg0_jDFCaX"
      }
    },
    {
      "cell_type": "markdown",
      "source": [
        "Question 1:- write a python function that takes a list of numbers as input and returns the sum of all even numbers in the list."
      ],
      "metadata": {
        "id": "joC1YDV7FGr8"
      }
    },
    {
      "cell_type": "code",
      "source": [
        "def sum_of_even_numbers(numbers):\n",
        "    even_sum = 0\n",
        "    for num in numbers:\n",
        "        if num % 2 == 0:\n",
        "            even_sum += num\n",
        "    return even_sum\n"
      ],
      "metadata": {
        "id": "AR19mTQjFXaZ"
      },
      "execution_count": null,
      "outputs": []
    },
    {
      "cell_type": "markdown",
      "source": [
        "Question 2: Create a python function that accepts a string and returns the reverse of that string."
      ],
      "metadata": {
        "id": "8lSlRoRRISmJ"
      }
    },
    {
      "cell_type": "code",
      "source": [
        "def reverse_string(input_str):\n",
        "    return input_str [::-1]\n",
        "\n",
        "text = \"pwskills\"\n",
        "reversed_text = reverse_string(text)\n",
        "print(\"original string:\", text)\n",
        "print(\"reversed string:\", reversed_text)"
      ],
      "metadata": {
        "colab": {
          "base_uri": "https://localhost:8080/"
        },
        "id": "kCrpl-8qK0_m",
        "outputId": "6eac0d2b-700f-4940-f66b-6e1c88e3c1a5"
      },
      "execution_count": null,
      "outputs": [
        {
          "output_type": "stream",
          "name": "stdout",
          "text": [
            "original string: pwskills\n",
            "reversed string: sllikswp\n"
          ]
        }
      ]
    },
    {
      "cell_type": "markdown",
      "source": [
        "Question 3:- implement a python function that takes a list of integers and return a new list containing the squares of each numbers."
      ],
      "metadata": {
        "id": "M-twP8rvO5PP"
      }
    },
    {
      "cell_type": "code",
      "source": [
        "def square_numbers(numbers):\n",
        "    squared_list = []\n",
        "    for num in numbers:\n",
        "        squared_list.append(num ** 2)\n",
        "    return squared_list\n"
      ],
      "metadata": {
        "id": "MtML1vu3PdnY"
      },
      "execution_count": null,
      "outputs": []
    },
    {
      "cell_type": "markdown",
      "source": [
        "Question 4:- write a python function that checks if a given number is a prime or not from 1 to 200."
      ],
      "metadata": {
        "id": "ZYAvSC0pQgc9"
      }
    },
    {
      "cell_type": "code",
      "source": [
        "def is_prime(n):\n",
        "    if n < 2:\n",
        "        return False\n",
        "    for i in range(2, int(n ** 0.5) + 1):\n",
        "        if n % i == 0:\n",
        "            return False\n",
        "        else:\n",
        "            return true\n",
        "\n",
        "    for number in range(1, 201):\n",
        "        if is_prime(number):\n",
        "            print(f\"{number} is a prime number\")\n",
        "        else:\n",
        "            print(f\"{number} is not a prime number\")"
      ],
      "metadata": {
        "id": "sFf9T3TGQ0wd"
      },
      "execution_count": null,
      "outputs": []
    },
    {
      "cell_type": "markdown",
      "source": [
        "Question 5:- create an iterator class in python that generates the fibonacci sequence up to a specified number of terms."
      ],
      "metadata": {
        "id": "IOayZBu0S-je"
      }
    },
    {
      "cell_type": "code",
      "source": [
        "class Fibonacci:\n",
        "    def __init__(self, n):\n",
        "        self.n = n\n",
        "        self.a, self.b = 0, 1\n",
        "        self.count = 0\n",
        "\n",
        "    def __iter__(self):\n",
        "        return self\n",
        "\n",
        "    def __next__(self):\n",
        "        if self.count >= self.n:\n",
        "            raise StopIteration\n",
        "        result = self.a\n",
        "        self.a, self.b = self.b, self.a + self.b\n",
        "        self.count += 1\n",
        "        return result\n",
        "\n",
        " #generate the first 10 fibonacci numbers\n",
        "        for num in Fibonacci(10):\n",
        "          print(num)\n"
      ],
      "metadata": {
        "id": "FLnE5QxNTRPs"
      },
      "execution_count": null,
      "outputs": []
    },
    {
      "cell_type": "markdown",
      "source": [
        "Question 6:- Write a generator function in python that yields the powers of 2 up to a given exponent.\n"
      ],
      "metadata": {
        "id": "KagejT_zl9s7"
      }
    },
    {
      "cell_type": "code",
      "source": [
        "def powers_of_two(max_exponent):\n",
        "    for i in range(max_exponent + 1):\n",
        "        yield 2 ** i\n",
        "for power in powers_of_two(5):\n",
        "    print(power)"
      ],
      "metadata": {
        "colab": {
          "base_uri": "https://localhost:8080/"
        },
        "id": "rwvMl5KSmTxR",
        "outputId": "2b742030-c282-406d-85dc-b8347b0d194d"
      },
      "execution_count": null,
      "outputs": [
        {
          "output_type": "stream",
          "name": "stdout",
          "text": [
            "1\n",
            "2\n",
            "4\n",
            "8\n",
            "16\n",
            "32\n"
          ]
        }
      ]
    },
    {
      "cell_type": "markdown",
      "source": [
        "Queston 7:- implement a generator function that reads a file line by line and yields each line as a string.\n"
      ],
      "metadata": {
        "id": "PK5yiiTrnRFN"
      }
    },
    {
      "cell_type": "code",
      "source": [
        "def read_file_lines(file_path):\n",
        "    try:\n",
        "        with open(file_path, 'r') as file:\n",
        "            for line in file:\n",
        "                yield line.strip()\n",
        "    except FileNotFoundError:\n",
        "        print(f\"File '{file_path}' not found.\")\n",
        "\n",
        "\n",
        "file_path = 'example.txt'  # replace with your file path\n",
        "for line in read_file_lines(file_path):\n",
        "    print(line)\n"
      ],
      "metadata": {
        "colab": {
          "base_uri": "https://localhost:8080/"
        },
        "id": "KsVAg7EXvbGN",
        "outputId": "60bf3c26-2aa6-4f1a-8138-458c2f031128"
      },
      "execution_count": null,
      "outputs": [
        {
          "output_type": "stream",
          "name": "stdout",
          "text": [
            "File 'example.txt' not found.\n"
          ]
        }
      ]
    },
    {
      "cell_type": "markdown",
      "source": [
        "Question 8:- use a lambda function in python to sort a list of tuples based on the second element of each tuple."
      ],
      "metadata": {
        "id": "0nWFjmqTv_tS"
      }
    },
    {
      "cell_type": "code",
      "source": [
        "my_list = [(1, 3), (4, 1), (2, 2), (5, 0)]\n",
        "sorted_list = sorted(my_list, key=lambda x: x[1])\n",
        "print(\"sorted list based on second element:\", sorted_list)"
      ],
      "metadata": {
        "colab": {
          "base_uri": "https://localhost:8080/"
        },
        "id": "gryVSFPs7Tmy",
        "outputId": "7d649b96-3fec-410f-e356-537440019369"
      },
      "execution_count": null,
      "outputs": [
        {
          "output_type": "stream",
          "name": "stdout",
          "text": [
            "sorted list based on second element: [(5, 0), (4, 1), (2, 2), (1, 3)]\n"
          ]
        }
      ]
    },
    {
      "cell_type": "markdown",
      "source": [
        "Question 9:- write a python program that uses map() to convert a list of temperatures from celsius to fahrenheit."
      ],
      "metadata": {
        "id": "EuEnYk0k8iFN"
      }
    },
    {
      "cell_type": "code",
      "source": [
        "#list of tempratures in celcius\n",
        "celcius = [0, 20, 37, 100]\n",
        "fahrenheit = list(map(lambda c: (c * 9/50) + 32, celcius))\n",
        "print(\"temperatures in celcius:\", celcius)\n",
        "print(\"converted to fahrenheit:\", fahrenheit)"
      ],
      "metadata": {
        "colab": {
          "base_uri": "https://localhost:8080/"
        },
        "id": "BeCy1okt9HZh",
        "outputId": "cc6109c1-f5d9-482c-993d-01d935508c61"
      },
      "execution_count": null,
      "outputs": [
        {
          "output_type": "stream",
          "name": "stdout",
          "text": [
            "temperatures in celcius: [0, 20, 37, 100]\n",
            "converted to fahrenheit: [32.0, 35.6, 38.66, 50.0]\n"
          ]
        }
      ]
    },
    {
      "cell_type": "markdown",
      "source": [
        "Question 10:- create a python program that uses filter() to remove all the vowels from a given string.\n"
      ],
      "metadata": {
        "id": "oNTLO3aU_V1B"
      }
    },
    {
      "cell_type": "code",
      "source": [
        "input_str= \"hello, this is a python program.\"\n",
        "vowels = \"aeiouAEIOU\"\n",
        "no_vowels = ''.join(filter(lambda char: char not in vowels, input_str))\n",
        "print(\"original string: \", input_str)\n",
        "print(\"string without vowels: \", no_vowels)"
      ],
      "metadata": {
        "colab": {
          "base_uri": "https://localhost:8080/"
        },
        "id": "zRMf9T7B_muC",
        "outputId": "d791236d-93ae-4100-8ad0-4ef128a8b152"
      },
      "execution_count": null,
      "outputs": [
        {
          "output_type": "stream",
          "name": "stdout",
          "text": [
            "original string:  hello, this is a python program.\n",
            "string without vowels:  hll, ths s  pythn prgrm.\n"
          ]
        }
      ]
    },
    {
      "cell_type": "code",
      "source": [
        "Question 11:-\n"
      ],
      "metadata": {
        "id": "HjeU8L-JseA0"
      },
      "execution_count": null,
      "outputs": []
    },
    {
      "cell_type": "code",
      "source": [
        "#11.  Write a Python program, which returns a list with 2-tuples. Each tuple consists of the order number and the\n",
        "#  product of the price per item and the quantity. The product should be increased by 10,- € if the value of the\n",
        "#  order is smaller than 100,00 €.\n",
        "\n",
        "#  Write a Python program using lambda and map.\n",
        "orders = [\n",
        "    [\"34587\", \"Learning Python, Mark Lutz\", 4, 40.95],\n",
        "    [\"98762\", \"Programming Python, Mark Lutz\", 5, 56.80],\n",
        "    [\"77226\", \"Head First Python, Paul Barry\", 3, 32.95],\n",
        "    [\"88112\", \"Einführung in Python3, Bernd Klein\", 3, 24.99]\n",
        "]\n",
        "\n",
        "result = list(map(lambda order: (order[0], order[2]*order[3] + (10 if order[2]*order[3] < 100 else 0)), orders))\n",
        "print(result)"
      ],
      "metadata": {
        "colab": {
          "base_uri": "https://localhost:8080/"
        },
        "id": "5laxbzcAslO2",
        "outputId": "473a22d5-cf72-4743-8982-de3160fb71c5"
      },
      "execution_count": 1,
      "outputs": [
        {
          "output_type": "stream",
          "name": "stdout",
          "text": [
            "[('34587', 163.8), ('98762', 284.0), ('77226', 108.85000000000001), ('88112', 84.97)]\n"
          ]
        }
      ]
    }
  ]
}